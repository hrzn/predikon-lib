{
 "cells": [
  {
   "cell_type": "markdown",
   "metadata": {},
   "source": [
    "# Example: Swiss Referenda\n",
    "\n",
    "We propose in this notebook an example of how to use the `predikon` library to make vote predictions.\n",
    "The data is a subsample (10%) of Swiss referenda results.\n",
    "The full dataset can be found in the [submatrix-factorization](https://github.com/indy-lab/submatrix-factorization/blob/master/data/munvoteinfo.pkl) repo."
   ]
  },
  {
   "cell_type": "markdown",
   "metadata": {},
   "source": [
    "## Imports"
   ]
  },
  {
   "cell_type": "code",
   "execution_count": 1,
   "metadata": {
    "lines_to_next_cell": 2,
    "title": "Import"
   },
   "outputs": [],
   "source": [
    "import numpy as np\n",
    "from predikon import LogisticSubSVD, GaussianSubSVD, WeightedAveraging\n",
    "\n",
    "DATA_PATH = '../tests/data/'"
   ]
  },
  {
   "cell_type": "markdown",
   "metadata": {},
   "source": [
    "## Load Data\n",
    "\n",
    "Each entry `data[i,j]` is the percentage of \"yes\" in region `i` for referendum `j`.\n",
    "A region in this dataset is a Swiss municipality.\n",
    "The `weights` are the number of valid votes in each municipality.\n",
    "The `outcomes` are the aggregate national outcomes for each referendum."
   ]
  },
  {
   "cell_type": "code",
   "execution_count": 2,
   "metadata": {
    "lines_to_next_cell": 2,
    "title": "Load data."
   },
   "outputs": [],
   "source": [
    "data = np.loadtxt(f'{DATA_PATH}/data.csv', dtype=np.float, delimiter=',')\n",
    "weights = np.loadtxt(f'{DATA_PATH}/weights.csv', dtype=np.int, delimiter=',')\n",
    "outcomes = np.loadtxt(f'{DATA_PATH}/outcomes.csv', dtype=np.float, delimiter=',')"
   ]
  },
  {
   "cell_type": "markdown",
   "metadata": {},
   "source": [
    "## Prepare Data\n",
    "\n",
    "The matrix `Y` contains historical data up to vote `V`.\n",
    "The vector `y` contains the vote results for the vote we would like to make predictions."
   ]
  },
  {
   "cell_type": "code",
   "execution_count": 3,
   "metadata": {
    "title": "Prepare data."
   },
   "outputs": [
    {
     "name": "stdout",
     "output_type": "stream",
     "text": [
      "Number of regions: 217\n",
      "Number of votes:    31\n"
     ]
    }
   ],
   "source": [
    "Y, y = data[:, :-1], data[:, -1]\n",
    "ytrue = outcomes[-1]\n",
    "R, V = Y.shape\n",
    "print(f'Number of regions: {R:>3}')\n",
    "print(f'Number of votes:   {V:>3}')"
   ]
  },
  {
   "cell_type": "markdown",
   "metadata": {},
   "source": [
    "## Set Observations\n",
    "\n",
    "Set which regions are observed.\n",
    "The unobserved regional results are `nan`."
   ]
  },
  {
   "cell_type": "code",
   "execution_count": 4,
   "metadata": {
    "title": "Sample observations."
   },
   "outputs": [],
   "source": [
    "# Fix the seed for reproducibility.\n",
    "np.random.seed(200)\n",
    "# Random permutation of the regions.\n",
    "inds = np.random.permutation(R)\n",
    "# Proportion of observed results.\n",
    "p = 0.1\n",
    "# Number of observations (10 %).\n",
    "n = int(np.ceil(R * p))\n",
    "# Set observations.\n",
    "obs = inds[:n]\n",
    "# Define new vector of (partial) regional results.\n",
    "ynew = np.array([np.nan] * R)\n",
    "ynew[obs] = y[obs]"
   ]
  },
  {
   "cell_type": "markdown",
   "metadata": {},
   "source": [
    "## Evaluate Models\n",
    "\n",
    "We evaluate three models:\n",
    "1. A weighted average baseline\n",
    "2. Our algorithm with a Gaussian likelihood\n",
    "3. Our algorithm with a Bernoulli likelihood\n",
    "\n",
    "We set the latent dimensions `D=10` and the regularizer `reg=1e-5`.\n",
    "We report the predicted aggregated outcome, and we compare it against the true aggregate outcome.\n",
    "An aggregate outcome is the weighted average of the regional observations and the regional predictions, where the weight is the number of valid votes in each region."
   ]
  },
  {
   "cell_type": "code",
   "execution_count": 5,
   "metadata": {
    "lines_to_next_cell": 2,
    "title": "Evaluate models."
   },
   "outputs": [
    {
     "name": "stdout",
     "output_type": "stream",
     "text": [
      "Weighted Averaging\n",
      "  Predicted outcome: 52.13%\n",
      "  True outcome:      55.67%\n",
      "  Absolute diff.:    3.5426\n",
      "\n",
      "GaussianSubSVD (dim=10,l2=1e-05)\n",
      "  Predicted outcome: 54.32%\n",
      "  True outcome:      55.67%\n",
      "  Absolute diff.:    1.3529\n",
      "\n",
      "Logistic SubSVD (dim=10,l2=1e-05)\n",
      "  Predicted outcome: 54.30%\n",
      "  True outcome:      55.67%\n",
      "  Absolute diff.:    1.3713\n",
      "\n"
     ]
    }
   ],
   "source": [
    "# Hyperparameters: number of latent dimensions and regularizers.\n",
    "D, reg = 10, 1e-5\n",
    "# Define models.\n",
    "base = WeightedAveraging(Y, weighting=weights)\n",
    "gaus = GaussianSubSVD(Y, weighting=weights, n_dim=D, add_bias=True, l2_reg=reg)\n",
    "bern = LogisticSubSVD(Y, weighting=weights, n_dim=D, add_bias=True, l2_reg=reg)\n",
    "\n",
    "for model in [base, gaus, bern]:\n",
    "    print(model)\n",
    "    # Predict missing results.\n",
    "    pred = model.fit_predict(ynew)\n",
    "    # Compute aggregate outcome. \n",
    "    ypred = 1/np.sum(weights) * np.sum(weights.dot(pred))\n",
    "    print(f'  Predicted outcome: {ypred*100:.2f}%')\n",
    "    print(f'  True outcome:      {ytrue*100:.2f}%')\n",
    "    print(f'  Absolute diff.:    {np.abs(ypred - ytrue)*100:.4f}\\n')"
   ]
  }
 ],
 "metadata": {
  "jupytext": {
   "cell_metadata_filter": "-all",
   "main_language": "python",
   "notebook_metadata_filter": "-all"
  },
  "kernelspec": {
   "display_name": "Python 3",
   "language": "python",
   "name": "python3"
  },
  "language_info": {
   "codemirror_mode": {
    "name": "ipython",
    "version": 3
   },
   "file_extension": ".py",
   "mimetype": "text/x-python",
   "name": "python",
   "nbconvert_exporter": "python",
   "pygments_lexer": "ipython3",
   "version": "3.8.5"
  }
 },
 "nbformat": 4,
 "nbformat_minor": 4
}
